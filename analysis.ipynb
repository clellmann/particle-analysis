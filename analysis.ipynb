{
 "cells": [
  {
   "cell_type": "markdown",
   "metadata": {},
   "source": [
    "# Geospatio-temporal analysis "
   ]
  },
  {
   "cell_type": "code",
   "execution_count": 58,
   "metadata": {},
   "outputs": [],
   "source": [
    "import numpy as np\n",
    "import pandas as pd\n",
    "import boto3\n",
    "import os\n",
    "from boto3.dynamodb.conditions import Attr\n",
    "from datetime import datetime"
   ]
  },
  {
   "cell_type": "markdown",
   "metadata": {},
   "source": [
    "# Export env variables"
   ]
  },
  {
   "cell_type": "code",
   "execution_count": 11,
   "metadata": {},
   "outputs": [],
   "source": [
    "with open(\"./app.env\") as env_file:\n",
    "    for env in env_file.read().splitlines():\n",
    "        key, value = env.split('=')\n",
    "        os.environ[key] = value"
   ]
  },
  {
   "cell_type": "markdown",
   "metadata": {},
   "source": [
    "## Download data"
   ]
  },
  {
   "cell_type": "code",
   "execution_count": 65,
   "metadata": {},
   "outputs": [],
   "source": [
    "dynamodb = boto3.resource('dynamodb', region_name='us-west-1', aws_access_key_id=os.environ['ACCESS_KEY'], aws_secret_access_key=os.environ['SECRET'])\n",
    "table = dynamodb.Table('luftdaten')\n",
    "response = table.scan(FilterExpression=Attr('timestamp').contains('2019-03-06 01:53:58'),\n",
    "                      ProjectionExpression='sensordatavalues, #t, sensor.id, #l.longitude, #l.latitude, #l.altitude',\n",
    "                      ExpressionAttributeNames = {'#t': 'timestamp', '#l': 'location'},\n",
    "                      Limit=100)\n",
    "response_items = response['Items'] "
   ]
  },
  {
   "cell_type": "code",
   "execution_count": 66,
   "metadata": {},
   "outputs": [
    {
     "data": {
      "text/plain": [
       "[{'location': {'altitude': '347.7',\n",
       "   'latitude': '48.5840',\n",
       "   'longitude': '9.3700'},\n",
       "  'sensor': {'id': Decimal('11465')},\n",
       "  'sensordatavalues': [{'value': '1.65',\n",
       "    'value_type': 'P1',\n",
       "    'id': Decimal('6445939045')},\n",
       "   {'value': '1.55', 'value_type': 'P2', 'id': Decimal('6445939046')}],\n",
       "  'timestamp': '2019-03-06 01:53:58'}]"
      ]
     },
     "execution_count": 66,
     "metadata": {},
     "output_type": "execute_result"
    }
   ],
   "source": [
    "response_items"
   ]
  },
  {
   "cell_type": "code",
   "execution_count": 67,
   "metadata": {},
   "outputs": [],
   "source": [
    "pd_items = []\n",
    "for item in response_items:\n",
    "    base_dict = {'latitude': float(item['location']['latitude']),\n",
    "                 'longitude': float(item['location']['longitude']),\n",
    "                 'altitude': float(item['location']['altitude']), \n",
    "                 **item['sensor'], \n",
    "                 'timestamp': datetime.strptime(item['timestamp'], \"%Y-%m-%d %H:%M:%S\")}\n",
    "    for sensorvalue in item['sensordatavalues']:\n",
    "        base_dict[sensorvalue['value_type']] = float(sensorvalue['value'])\n",
    "    pd_items.append(base_dict)"
   ]
  },
  {
   "cell_type": "code",
   "execution_count": 75,
   "metadata": {},
   "outputs": [],
   "source": [
    "base_df = pd.DataFrame(pd_items)"
   ]
  },
  {
   "cell_type": "code",
   "execution_count": 76,
   "metadata": {},
   "outputs": [
    {
     "data": {
      "text/html": [
       "<div>\n",
       "<style scoped>\n",
       "    .dataframe tbody tr th:only-of-type {\n",
       "        vertical-align: middle;\n",
       "    }\n",
       "\n",
       "    .dataframe tbody tr th {\n",
       "        vertical-align: top;\n",
       "    }\n",
       "\n",
       "    .dataframe thead th {\n",
       "        text-align: right;\n",
       "    }\n",
       "</style>\n",
       "<table border=\"1\" class=\"dataframe\">\n",
       "  <thead>\n",
       "    <tr style=\"text-align: right;\">\n",
       "      <th></th>\n",
       "      <th>P1</th>\n",
       "      <th>P2</th>\n",
       "      <th>altitude</th>\n",
       "      <th>id</th>\n",
       "      <th>latitude</th>\n",
       "      <th>longitude</th>\n",
       "      <th>timestamp</th>\n",
       "    </tr>\n",
       "  </thead>\n",
       "  <tbody>\n",
       "    <tr>\n",
       "      <th>0</th>\n",
       "      <td>1.65</td>\n",
       "      <td>1.55</td>\n",
       "      <td>347.7</td>\n",
       "      <td>11465</td>\n",
       "      <td>48.584</td>\n",
       "      <td>9.37</td>\n",
       "      <td>2019-03-06 01:53:58</td>\n",
       "    </tr>\n",
       "  </tbody>\n",
       "</table>\n",
       "</div>"
      ],
      "text/plain": [
       "     P1    P2  altitude     id  latitude  longitude           timestamp\n",
       "0  1.65  1.55     347.7  11465    48.584       9.37 2019-03-06 01:53:58"
      ]
     },
     "execution_count": 76,
     "metadata": {},
     "output_type": "execute_result"
    }
   ],
   "source": [
    "base_df"
   ]
  },
  {
   "cell_type": "code",
   "execution_count": null,
   "metadata": {},
   "outputs": [],
   "source": []
  }
 ],
 "metadata": {
  "kernelspec": {
   "display_name": "Python 3",
   "language": "python",
   "name": "python3"
  },
  "language_info": {
   "codemirror_mode": {
    "name": "ipython",
    "version": 3
   },
   "file_extension": ".py",
   "mimetype": "text/x-python",
   "name": "python",
   "nbconvert_exporter": "python",
   "pygments_lexer": "ipython3",
   "version": "3.7.3"
  }
 },
 "nbformat": 4,
 "nbformat_minor": 2
}
