{
 "cells": [
  {
   "cell_type": "markdown",
   "metadata": {},
   "source": [
    "# Statistical Tests"
   ]
  },
  {
   "cell_type": "code",
   "execution_count": 19,
   "metadata": {},
   "outputs": [],
   "source": [
    "import pandas as pd\n",
    "from scipy.stats import ttest_ind_from_stats\n",
    "import numpy as np\n",
    "import matplotlib.pyplot as plt\n",
    "plt.style.use('ggplot')\n",
    "%matplotlib inline\n",
    "import seaborn as sns"
   ]
  },
  {
   "cell_type": "code",
   "execution_count": null,
   "metadata": {},
   "outputs": [],
   "source": [
    "START_TIME1 = '2019-04-22 19:28:01'\n",
    "BOUNDING_BOX1 = [(48.97, 8.5), (48.6, 9.4)] # NW, SE\n",
    "DISTANCE_BINS1 = 200 # m\n",
    "\n",
    "START_TIME2 = '2019-04-22 19:28:01'\n",
    "BOUNDING_BOX2 = [(48.97, 8.5), (48.6, 9.4)] # NW, SE\n",
    "DISTANCE_BINS2 = 200 # m"
   ]
  },
  {
   "cell_type": "markdown",
   "metadata": {},
   "source": [
    "## Semivariogram difference"
   ]
  },
  {
   "cell_type": "code",
   "execution_count": null,
   "metadata": {},
   "outputs": [],
   "source": [
    "df1 = pd.read_csv('./data/semivariogram_{0}_{1}_{2}.csv'.format(START_TIME1, str(BOUNDING_BOX1), str(DISTANCE_BINS1)))\n",
    "df2 = pd.read_csv('./data/semivariogram_{0}_{1}_{2}.csv'.format(START_TIME2, str(BOUNDING_BOX2), str(DISTANCE_BINS2)))\n",
    "\n",
    "print('Mean difference P1 spherical: ' + str(np.mean(df1['fit_P1_sph'] - df2['fit_P1_sph'])))\n",
    "print('Mean difference P2 spherical: ' + str(np.mean(df1['fit_P2_sph'] - df2['fit_P2_sph'])))\n",
    "print('Mean difference P1 exponential: ' + str(np.mean(df1['fit_P1_exp'] - df2['fit_P1_exp'])))\n",
    "print('Mean difference P2 exponential: ' + str(np.mean(df1['fit_P2_exp'] - df2['fit_P2_exp'])))\n",
    "\n",
    "ax = df1['fit_P1_sph'].plot(marker='.', markersize=10,\n",
    "                            grid=True, label='P1 semivariogram spherical', legend=True, figsize=(15,10))\n",
    "df1['fit_P2_sph'].plot(marker='.', markersize=10,\n",
    "                       grid=True, label='P2 semivariogram spherical', legend=True, ax=ax, figsize=(15,10))\n",
    "df1['fit_P1_exp'].plot(marker='.', markersize=10,\n",
    "                       grid=True, label='P1 semivariogram exponential', legend=True, ax=ax, figsize=(15,10))\n",
    "df1['fit_P2_exp'].plot(marker='.', markersize=10,\n",
    "                       grid=True, label='P2 semivariogram exponential', legend=True, ax=ax, figsize=(15,10))\n",
    "\n",
    "df2['fit_P1_sph'].plot(marker='.', markersize=10,\n",
    "                       grid=True, label='P1 semivariogram spherical', legend=True, ax=ax, figsize=(15,10))\n",
    "df2['fit_P2_sph'].plot(marker='.', markersize=10,\n",
    "                       grid=True, label='P2 semivariogram spherical', legend=True, ax=ax, figsize=(15,10))\n",
    "df2['fit_P1_exp'].plot(marker='.', markersize=10,\n",
    "                       grid=True, label='P1 semivariogram exponential', legend=True, ax=ax, figsize=(15,10))\n",
    "df2['fit_P2_exp'].plot(marker='.', markersize=10,\n",
    "                       grid=True, label='P2 semivariogram exponential', legend=True, ax=ax, figsize=(15,10))"
   ]
  },
  {
   "cell_type": "markdown",
   "metadata": {},
   "source": [
    "## Paired Student’s t-test\n",
    "Tests whether the means of two paired samples are significantly different.\n",
    "\n",
    "Assumptions\n",
    "\n",
    "* Observations in each sample are independent and identically distributed (iid).\n",
    "* Observations in each sample are normally distributed.\n",
    "* Observations in each sample have the same variance.\n",
    "* Observations across each sample are paired.\n",
    "\n",
    "Interpretation\n",
    "\n",
    "* H0: the means of the samples are equal.\n",
    "* H1: the means of the samples are unequal."
   ]
  },
  {
   "cell_type": "code",
   "execution_count": null,
   "metadata": {},
   "outputs": [],
   "source": [
    "popt_p1_sph1 = np.load('./data/semivariogramparams_popt_p1_sph_{0}_{1}_{2}.npy'.format(START_TIME1, str(BOUNDING_BOX1), str(DISTANCE_BINS1)))\n",
    "pcov_p1_sph1 = np.load('./data/semivariogramparams_pcov_p1_sph_{0}_{1}_{2}.npy'.format(START_TIME1, str(BOUNDING_BOX1), str(DISTANCE_BINS1)))\n",
    "popt_p2_sph1 = np.load('./data/semivariogramparams_popt_p2_sph_{0}_{1}_{2}.npy'.format(START_TIME1, str(BOUNDING_BOX1), str(DISTANCE_BINS1)))\n",
    "pcov_p2_sph1 = np.load('./data/semivariogramparams_pcov_p2_sph_{0}_{1}_{2}.npy'.format(START_TIME1, str(BOUNDING_BOX1), str(DISTANCE_BINS1)))\n",
    "popt_p1_exp1 = np.load('./data/semivariogramparams_popt_p1_exp_{0}_{1}_{2}.npy'.format(START_TIME1, str(BOUNDING_BOX1), str(DISTANCE_BINS1)))\n",
    "pcov_p1_exp1 = np.load('./data/semivariogramparams_pcov_p1_exp_{0}_{1}_{2}.npy'.format(START_TIME1, str(BOUNDING_BOX1), str(DISTANCE_BINS1)))\n",
    "popt_p2_exp1 = np.load('./data/semivariogramparams_popt_p2_exp_{0}_{1}_{2}.npy'.format(START_TIME1, str(BOUNDING_BOX1), str(DISTANCE_BINS1)))\n",
    "pcov_p2_exp1 = np.load('./data/semivariogramparams_pcov_p2_exp_{0}_{1}_{2}.npy'.format(START_TIME1, str(BOUNDING_BOX1), str(DISTANCE_BINS1)))\n",
    "popt_p1_sph2 = np.load('./data/semivariogramparams_popt_p1_sph_{0}_{1}_{2}.npy'.format(START_TIME2, str(BOUNDING_BOX2), str(DISTANCE_BINS2)))\n",
    "pcov_p1_sph2 = np.load('./data/semivariogramparams_pcov_p1_sph_{0}_{1}_{2}.npy'.format(START_TIME2, str(BOUNDING_BOX2), str(DISTANCE_BINS2)))\n",
    "popt_p2_sph2 = np.load('./data/semivariogramparams_popt_p2_sph_{0}_{1}_{2}.npy'.format(START_TIME2, str(BOUNDING_BOX2), str(DISTANCE_BINS2)))\n",
    "pcov_p2_sph2 = np.load('./data/semivariogramparams_pcov_p2_sph_{0}_{1}_{2}.npy'.format(START_TIME2, str(BOUNDING_BOX2), str(DISTANCE_BINS2)))\n",
    "popt_p1_exp2 = np.load('./data/semivariogramparams_popt_p1_exp_{0}_{1}_{2}.npy'.format(START_TIME2, str(BOUNDING_BOX2), str(DISTANCE_BINS2)))\n",
    "pcov_p1_exp2 = np.load('./data/semivariogramparams_pcov_p1_exp_{0}_{1}_{2}.npy'.format(START_TIME2, str(BOUNDING_BOX2), str(DISTANCE_BINS2)))\n",
    "popt_p2_exp2 = np.load('./data/semivariogramparams_popt_p2_exp_{0}_{1}_{2}.npy'.format(START_TIME2, str(BOUNDING_BOX2), str(DISTANCE_BINS2)))\n",
    "pcov_p2_exp2 = np.load('./data/semivariogramparams_pcov_p2_exp_{0}_{1}_{2}.npy'.format(START_TIME2, str(BOUNDING_BOX2), str(DISTANCE_BINS2)))\n",
    "perr_p1_sph1 = np.sqrt(np.diag(pcov_p1_sph1))\n",
    "perr_p2_sph1 = np.sqrt(np.diag(pcov_p2_sph1))\n",
    "perr_p1_exp1 = np.sqrt(np.diag(pcov_p1_exp1))\n",
    "perr_p2_exp1 = np.sqrt(np.diag(pcov_p2_exp1))\n",
    "perr_p1_sph2 = np.sqrt(np.diag(pcov_p1_sph2))\n",
    "perr_p2_sph2 = np.sqrt(np.diag(pcov_p2_sph2))\n",
    "perr_p1_exp2 = np.sqrt(np.diag(pcov_p1_exp2))\n",
    "perr_p2_exp2 = np.sqrt(np.diag(pcov_p2_exp2))\n",
    "\n",
    "print(\"p sill P1_sph: \" + str(ttest_ind_from_stats(popt_p1_sph1[0], perr_p1_sph1[0], 20, popt_p1_sph2[0], perr_p1_sph2[0], 20)[1]))\n",
    "print(\"p nugget P1_sph: \" + str(ttest_ind_from_stats(popt_p1_sph1[1], perr_p1_sph1[1], 20, popt_p1_sph2[1], perr_p1_sph2[1], 20)[1]))\n",
    "print(\"p range P1_sph: \" + str(ttest_ind_from_stats(popt_p1_sph1[2], perr_p1_sph1[2], 20, popt_p1_sph2[2], perr_p1_sph2[2], 20)[1]))\n",
    "\n",
    "print(\"p sill P2_sph: \" + str(ttest_ind_from_stats(popt_p2_sph1[0], perr_p2_sph1[0], 20, popt_p2_sph2[0], perr_p2_sph2[0], 20)[1]))\n",
    "print(\"p nugget P2_sph: \" + str(ttest_ind_from_stats(popt_p2_sph1[1], perr_p2_sph1[1], 20, popt_p2_sph2[1], perr_p2_sph2[1], 20)[1]))\n",
    "print(\"p range P2_sph: \" + str(ttest_ind_from_stats(popt_p2_sph1[2], perr_p2_sph1[2], 20, popt_p2_sph2[2], perr_p2_sph2[2], 20)[1]))\n",
    "\n",
    "print(\"p sill P1_exp: \" + str(ttest_ind_from_stats(popt_p1_exp1[0], perr_p1_exp1[0], 20, popt_p1_exp2[0], perr_p1_exp2[0], 20)[1]))\n",
    "print(\"p nugget P1_exp: \" + str(ttest_ind_from_stats(popt_p1_exp1[1], perr_p1_exp1[1], 20, popt_p1_exp2[1], perr_p1_exp2[1], 20)[1]))\n",
    "print(\"p range P1_exp: \" + str(ttest_ind_from_stats(popt_p1_exp1[2], perr_p1_exp1[2], 20, popt_p1_exp2[2], perr_p1_exp2[2], 20)[1]))\n",
    "\n",
    "print(\"p sill P2_exp: \" + str(ttest_ind_from_stats(popt_p2_exp1[0], perr_p2_exp1[0], 20, popt_p2_exp2[0], perr_p2_exp2[0], 20)[1]))\n",
    "print(\"p nugget P2_exp: \" + str(ttest_ind_from_stats(popt_p2_exp1[1], perr_p2_exp1[1], 20, popt_p2_exp2[1], perr_p2_exp2[1], 20)[1]))\n",
    "print(\"p range P2_exp: \" + str(ttest_ind_from_stats(popt_p2_exp1[2], perr_p2_exp1[2], 20, popt_p2_exp2[2], perr_p2_exp2[2], 20)[1]))\n"
   ]
  },
  {
   "cell_type": "code",
   "execution_count": null,
   "metadata": {},
   "outputs": [],
   "source": [
    "P1_sph = pd.DataFrame([{'Variogram': 'semivariogram_p1_sph_{0}_{1}_{2}'.format(START_TIME1, str(BOUNDING_BOX1), str(DISTANCE_BINS1)),'Param':'Sill','Value': popt_p1_sph1[0], 'Error': perr_p1_sph1[0]},\n",
    "                       {'Variogram': 'semivariogram_p1_sph_{0}_{1}_{2}'.format(START_TIME2, str(BOUNDING_BOX2), str(DISTANCE_BINS2)),'Param':'Sill','Value': popt_p1_sph2[0], 'Error': perr_p1_sph2[0]},\n",
    "                       {'Variogram': 'semivariogram_p1_sph_{0}_{1}_{2}'.format(START_TIME1, str(BOUNDING_BOX1), str(DISTANCE_BINS1)),'Param':'Nugget','Value': popt_p1_sph1[1], 'Error': perr_p1_sph1[1]},\n",
    "                       {'Variogram': 'semivariogram_p1_sph_{0}_{1}_{2}'.format(START_TIME2, str(BOUNDING_BOX2), str(DISTANCE_BINS2)),'Param':'Nugget','Value': popt_p1_sph2[1], 'Error': perr_p1_sph2[1]},\n",
    "                       {'Variogram': 'semivariogram_p1_sph_{0}_{1}_{2}'.format(START_TIME1, str(BOUNDING_BOX1), str(DISTANCE_BINS1)),'Param':'Range','Value': popt_p1_sph1[2], 'Error': perr_p1_sph1[2]},\n",
    "                       {'Variogram': 'semivariogram_p1_sph_{0}_{1}_{2}'.format(START_TIME2, str(BOUNDING_BOX2), str(DISTANCE_BINS2)),'Param':'Range','Value': popt_p1_sph2[2], 'Error': perr_p1_sph2[2]}])\n",
    "g = sns.catplot(x=\"Param\", y=\"Value\", hue=\"Variogram\", data=P1_sph,\n",
    "                height=6, kind=\"bar\", palette=\"muted\")\n",
    "g.despine(left=True)\n",
    "g.set_ylabels(\"Value\")"
   ]
  },
  {
   "cell_type": "code",
   "execution_count": 70,
   "metadata": {},
   "outputs": [],
   "source": [
    "P2_sph = pd.DataFrame([{'Variogram': 'semivariogram_p2_sph_{0}_{1}_{2}'.format(START_TIME1, str(BOUNDING_BOX1), str(DISTANCE_BINS1)),'Param':'Sill','Value': popt_p2_sph1[0], 'Error': perr_p2_sph1[0]},\n",
    "                       {'Variogram': 'semivariogram_p2_sph_{0}_{1}_{2}'.format(START_TIME2, str(BOUNDING_BOX2), str(DISTANCE_BINS2)),'Param':'Sill','Value': popt_p2_sph2[0], 'Error': perr_p2_sph2[0]},\n",
    "                       {'Variogram': 'semivariogram_p2_sph_{0}_{1}_{2}'.format(START_TIME1, str(BOUNDING_BOX1), str(DISTANCE_BINS1)),'Param':'Nugget','Value': popt_p2_sph1[1], 'Error': perr_p2_sph1[1]},\n",
    "                       {'Variogram': 'semivariogram_p2_sph_{0}_{1}_{2}'.format(START_TIME2, str(BOUNDING_BOX2), str(DISTANCE_BINS2)),'Param':'Nugget','Value': popt_p2_sph2[1], 'Error': perr_p2_sph2[1]},\n",
    "                       {'Variogram': 'semivariogram_p2_sph_{0}_{1}_{2}'.format(START_TIME1, str(BOUNDING_BOX1), str(DISTANCE_BINS1)),'Param':'Range','Value': popt_p2_sph1[2], 'Error': perr_p2_sph1[2]},\n",
    "                       {'Variogram': 'semivariogram_p2_sph_{0}_{1}_{2}'.format(START_TIME2, str(BOUNDING_BOX2), str(DISTANCE_BINS2)),'Param':'Range','Value': popt_p2_sph2[2], 'Error': perr_p2_sph2[2]}])\n",
    "g = sns.catplot(x=\"Param\", y=\"Value\", hue=\"Variogram\", data=P2_sph,\n",
    "                height=6, kind=\"bar\", palette=\"muted\")\n",
    "g.despine(left=True)\n",
    "g.set_ylabels(\"Value\")"
   ]
  },
  {
   "cell_type": "code",
   "execution_count": null,
   "metadata": {},
   "outputs": [],
   "source": [
    "P1_exp = pd.DataFrame([{'Variogram': 'semivariogram_p1_exp_{0}_{1}_{2}'.format(START_TIME1, str(BOUNDING_BOX1), str(DISTANCE_BINS1)),'Param':'Sill','Value': popt_p1_exp1[0], 'Error': perr_p1_exp1[0]},\n",
    "                       {'Variogram': 'semivariogram_p1_exp_{0}_{1}_{2}'.format(START_TIME2, str(BOUNDING_BOX2), str(DISTANCE_BINS2)),'Param':'Sill','Value': popt_p1_exp2[0], 'Error': perr_p1_exp2[0]},\n",
    "                       {'Variogram': 'semivariogram_p1_exp_{0}_{1}_{2}'.format(START_TIME1, str(BOUNDING_BOX1), str(DISTANCE_BINS1)),'Param':'Nugget','Value': popt_p1_exp1[1], 'Error': perr_p1_exp1[1]},\n",
    "                       {'Variogram': 'semivariogram_p1_exp_{0}_{1}_{2}'.format(START_TIME2, str(BOUNDING_BOX2), str(DISTANCE_BINS2)),'Param':'Nugget','Value': popt_p1_exp2[1], 'Error': perr_p1_exp2[1]},\n",
    "                       {'Variogram': 'semivariogram_p1_exp_{0}_{1}_{2}'.format(START_TIME1, str(BOUNDING_BOX1), str(DISTANCE_BINS1)),'Param':'Range','Value': popt_p1_exp1[2], 'Error': perr_p1_exp1[2]},\n",
    "                       {'Variogram': 'semivariogram_p1_exp_{0}_{1}_{2}'.format(START_TIME2, str(BOUNDING_BOX2), str(DISTANCE_BINS2)),'Param':'Range','Value': popt_p1_exp2[2], 'Error': perr_p1_exp2[2]}])\n",
    "g = sns.catplot(x=\"Param\", y=\"Value\", hue=\"Variogram\", data=P1_exp,\n",
    "                height=6, kind=\"bar\", palette=\"muted\")\n",
    "g.despine(left=True)\n",
    "g.set_ylabels(\"Value\")"
   ]
  },
  {
   "cell_type": "code",
   "execution_count": null,
   "metadata": {},
   "outputs": [],
   "source": [
    "P2_exp = pd.DataFrame([{'Variogram': 'semivariogram_p2_exp_{0}_{1}_{2}'.format(START_TIME1, str(BOUNDING_BOX1), str(DISTANCE_BINS1)),'Param':'Sill','Value': popt_p2_exp1[0], 'Error': perr_p2_exp1[0]},\n",
    "                       {'Variogram': 'semivariogram_p2_exp_{0}_{1}_{2}'.format(START_TIME2, str(BOUNDING_BOX2), str(DISTANCE_BINS2)),'Param':'Sill','Value': popt_p2_exp2[0], 'Error': perr_p2_exp2[0]},\n",
    "                       {'Variogram': 'semivariogram_p2_exp_{0}_{1}_{2}'.format(START_TIME1, str(BOUNDING_BOX1), str(DISTANCE_BINS1)),'Param':'Nugget','Value': popt_p2_exp1[1], 'Error': perr_p2_exp1[1]},\n",
    "                       {'Variogram': 'semivariogram_p2_exp_{0}_{1}_{2}'.format(START_TIME2, str(BOUNDING_BOX2), str(DISTANCE_BINS2)),'Param':'Nugget','Value': popt_p2_exp2[1], 'Error': perr_p2_exp2[1]},\n",
    "                       {'Variogram': 'semivariogram_p2_exp_{0}_{1}_{2}'.format(START_TIME1, str(BOUNDING_BOX1), str(DISTANCE_BINS1)),'Param':'Range','Value': popt_p2_exp1[2], 'Error': perr_p2_exp1[2]},\n",
    "                       {'Variogram': 'semivariogram_p2_exp_{0}_{1}_{2}'.format(START_TIME2, str(BOUNDING_BOX2), str(DISTANCE_BINS2)),'Param':'Range','Value': popt_p2_exp2[2], 'Error': perr_p2_exp2[2]}])\n",
    "g = sns.catplot(x=\"Param\", y=\"Value\", hue=\"Variogram\", data=P2_exp,\n",
    "                height=6, kind=\"bar\", palette=\"muted\")\n",
    "g.despine(left=True)\n",
    "g.set_ylabels(\"Value\")"
   ]
  },
  {
   "cell_type": "code",
   "execution_count": null,
   "metadata": {},
   "outputs": [],
   "source": []
  }
 ],
 "metadata": {
  "kernelspec": {
   "display_name": "Python 3",
   "language": "python",
   "name": "python3"
  },
  "language_info": {
   "codemirror_mode": {
    "name": "ipython",
    "version": 3
   },
   "file_extension": ".py",
   "mimetype": "text/x-python",
   "name": "python",
   "nbconvert_exporter": "python",
   "pygments_lexer": "ipython3",
   "version": "3.7.3"
  }
 },
 "nbformat": 4,
 "nbformat_minor": 2
}
